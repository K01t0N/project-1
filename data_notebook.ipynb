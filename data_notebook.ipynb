{
 "cells": [
  {
   "cell_type": "markdown",
   "metadata": {},
   "source": [
    "# Project 1 - Diabetes and Possible Contributing Factors\n",
    "\n",
    "This jupyter notebook contains the cleaning, analysis, and visualizations of the diabetes_prediction_dataset on kaggle. \n",
    "\n",
    "## Contents\n",
    "\n",
    "- **Importing and Cleaning the Data**\n",
    "    - Importing the csv\n",
    "    - Replacing 1/0 Values with True/False Values\n",
    "    - Cleaning the smoking_history column\n",
    "    - Dropping n/a values and checking value counts\n",
    "    - Viewing the clean dataset\n",
    "\n",
    "- **Analysis**\n",
    "    - Summary Table 1 - Age, BMI, HbA1c Level, and Blood Glucose Level Among Diabetics and Non-Diabetics\n",
    "    - Summary Table 2 - Diabetics with Hypertension, Heart Diease, Both, or Neither\n",
    "    - Summary Table 3 - Diabetics that are at least 45 Years Old, 25+ BMI, Both, or Neither\n",
    "\n",
    "- **Visualizations**\n",
    "    "
   ]
  },
  {
   "cell_type": "markdown",
   "metadata": {},
   "source": [
    "## Importing and Cleaning the Data\n",
    "\n",
    "The first step is to import the dataframe from the csv, and save it to a new variable. Some of the columns in this dateset have 0 and 1 values, so these will be replace with True/False values."
   ]
  },
  {
   "cell_type": "code",
   "execution_count": null,
   "metadata": {},
   "outputs": [],
   "source": [
    "import pandas as pd\n",
    "import matplotlib.pyplot as plt\n",
    "\n",
    "df = pd.read_csv(\"Resources/diabetes_prediction_dataset.csv\")\n",
    "df.head()"
   ]
  },
  {
   "cell_type": "markdown",
   "metadata": {},
   "source": [
    "The hypertension, heart_disease, and diabetes columns all have ones and zeros, indicating the presence or absence of these conditions. To make these columns easier to understand, the values will to changed to True/False, where True indicates the presence of a condition, and False indicates a lack of that condition."
   ]
  },
  {
   "cell_type": "code",
   "execution_count": null,
   "metadata": {},
   "outputs": [],
   "source": [
    "# creating a new variable for the clean dataframe\n",
    "clean_df = df\n",
    "\n",
    "# converting hypertension, heart_disease, and diabetes columns to boolean values\n",
    "# people either have them, or they don't\n",
    "clean_df[\"hypertension\"] = clean_df[\"hypertension\"].replace({0: False, 1: True})\n",
    "clean_df[\"heart_disease\"] = clean_df[\"heart_disease\"].replace({0: False, 1: True})\n",
    "clean_df[\"diabetes\"] = clean_df[\"diabetes\"].replace({0: False, 1: True})\n",
    "\n",
    "clean_df"
   ]
  },
  {
   "cell_type": "markdown",
   "metadata": {},
   "source": [
    "The relevant columns are now set to boolean values. It's time to take a closer look at the values for each column."
   ]
  },
  {
   "cell_type": "markdown",
   "metadata": {},
   "source": [
    "Let's look at the value counts for the smoking_history column."
   ]
  },
  {
   "cell_type": "code",
   "execution_count": null,
   "metadata": {},
   "outputs": [],
   "source": [
    "clean_df[\"smoking_history\"].value_counts()"
   ]
  },
  {
   "cell_type": "markdown",
   "metadata": {},
   "source": [
    "In this column, some patients have been labeled as \"ever\". While this could be seen as a mistyping of \"never\", this cannot be confirmed. Because these rows are less than 5% of the dataset, they will be removed."
   ]
  },
  {
   "cell_type": "code",
   "execution_count": null,
   "metadata": {},
   "outputs": [],
   "source": [
    "# removing rows where smoking history is \"ever\"\n",
    "clean_df = clean_df[clean_df[\"smoking_history\"] != \"ever\"]"
   ]
  },
  {
   "cell_type": "markdown",
   "metadata": {},
   "source": [
    "We initially looked to see if the \"no info\" category needed to be removed. However, we decided not to do this, as that category makes up for approximately 30% of the data.\n",
    "\n",
    "It is odd that 15 patients under the age of 5 are currently smoking, and that 61 patients under 5 have smoked in the past. Because this cannot be verified, we decided to limit the scope of our study to adults 21 and older. This will allow us to better determine the contributing factors to diabetes."
   ]
  },
  {
   "cell_type": "code",
   "execution_count": null,
   "metadata": {},
   "outputs": [],
   "source": [
    "# limiting the scope of the study to adults over 21\n",
    "clean_df = clean_df[clean_df[\"age\"] > 21]"
   ]
  },
  {
   "cell_type": "markdown",
   "metadata": {},
   "source": [
    "Let's drop the n/a values and check the values for all of the categorical and boolean columns."
   ]
  },
  {
   "cell_type": "code",
   "execution_count": null,
   "metadata": {},
   "outputs": [],
   "source": [
    "# dropping na values\n",
    "clean_df = clean_df.dropna()\n",
    "\n",
    "list = [\"gender\", \"hypertension\", \"heart_disease\", \"smoking_history\", \"diabetes\"]\n",
    "for x in list:\n",
    "    print(clean_df[x].value_counts())"
   ]
  },
  {
   "cell_type": "markdown",
   "metadata": {},
   "source": [
    "This is the cleaned datset in its current form:"
   ]
  },
  {
   "cell_type": "code",
   "execution_count": null,
   "metadata": {},
   "outputs": [],
   "source": [
    "# checking remaining rows\n",
    "clean_df.count()"
   ]
  },
  {
   "cell_type": "code",
   "execution_count": null,
   "metadata": {},
   "outputs": [],
   "source": [
    "# viewing the current clean_df\n",
    "clean_df"
   ]
  },
  {
   "cell_type": "markdown",
   "metadata": {},
   "source": [
    "# Analysis - Summary Tables\n",
    "\n",
    "Summary tables help give information at an overview. The first table shows summary statistics compared between patients with and without diabetes.\n",
    "\n",
    "## Summary Table 1\n",
    "\n",
    "### Age, BMI, HbA1c Level, and Blood Glucose Level Among Diabetics and Non-Diabetics\n"
   ]
  },
  {
   "cell_type": "code",
   "execution_count": null,
   "metadata": {},
   "outputs": [],
   "source": [
    "# creating a summary table comapring age, bmi, HbA1c levels, and blood glucose levels between people who have and don't have diabetes\n",
    "summary_1 = clean_df.groupby(\"diabetes\")[[\"age\", \"bmi\", \"HbA1c_level\", \"blood_glucose_level\"]].agg([\"mean\", \"median\", \"std\"])\n",
    "\n",
    "# transposing the dataframe so it is easier to read\n",
    "summary_1.transpose()"
   ]
  },
  {
   "cell_type": "markdown",
   "metadata": {},
   "source": [
    "## Summary Table 2\n",
    "\n",
    "### Diabetics with Hypertension, Heart Diease, Both, or Neither\n",
    "\n",
    "This table looks at combinations of contributing factors for those with diabetes."
   ]
  },
  {
   "cell_type": "code",
   "execution_count": null,
   "metadata": {},
   "outputs": [],
   "source": [
    "diabetes_df = clean_df[clean_df[\"diabetes\"] == True]\n",
    "\n",
    "summary_2 = diabetes_df.groupby([\"heart_disease\", \"hypertension\"])[[\"diabetes\"]].count()\n",
    "\n",
    "summary_2a = round(summary_2 / diabetes_df[\"diabetes\"].count(), 2)\n",
    "\n",
    "summary_2a"
   ]
  },
  {
   "cell_type": "markdown",
   "metadata": {},
   "source": [
    "#### Based on this summary table:\n",
    "\n",
    "- **65%** of diabetics in this dataset have **no heart disease or hypertension.**\n",
    "\n",
    "- **21%** of diabetics in this dataset have **hypertension**, but **no heart disease.**\n",
    "\n",
    "- **11%** of diabetics in this dataset have **heart disease**, but **no hypertension.**\n",
    "\n",
    "- Only **4%** of diabetics in this dataset have **both hypertension and heart disease.**"
   ]
  },
  {
   "cell_type": "markdown",
   "metadata": {},
   "source": [
    "## Summary Table 3\n",
    "\n",
    "### Diabetics that are at least 45 Years Old, 25+ BMI, Both, or Neither"
   ]
  },
  {
   "cell_type": "code",
   "execution_count": null,
   "metadata": {},
   "outputs": [],
   "source": [
    "# 25 and over bmi, 45 and over age\n",
    "\n",
    "summary_3 = diabetes_df.groupby([(diabetes_df[\"bmi\"] >= 25), \n",
    "                                 (diabetes_df[\"age\"] >= 45)])[[\"diabetes\"]].count()\n",
    "\n",
    "summary_3a = round(summary_3 / diabetes_df[\"diabetes\"].count(), 2)\n",
    "\n",
    "summary_3a\n"
   ]
  },
  {
   "cell_type": "markdown",
   "metadata": {},
   "source": [
    "#### Based on this summary table:\n",
    "\n",
    "- **80%** of diabetics in this dataset are **45+** and have a **BMI of 25+.**\n",
    "\n",
    "- **10%** of diabetics in this dataset are **under 45** with a **BMI of 25+.**\n",
    "\n",
    "- **9%** of diabetics in this dataset are **45+**, but have a **BMI under 25.**\n",
    "\n",
    "- Just **1%** of diabetics are **under 45** with a **BMI under 25.**"
   ]
  },
  {
   "cell_type": "markdown",
   "metadata": {},
   "source": [
    "# Visualizations"
   ]
  }
 ],
 "metadata": {
  "kernelspec": {
   "display_name": "dev",
   "language": "python",
   "name": "python3"
  },
  "language_info": {
   "codemirror_mode": {
    "name": "ipython",
    "version": 3
   },
   "file_extension": ".py",
   "mimetype": "text/x-python",
   "name": "python",
   "nbconvert_exporter": "python",
   "pygments_lexer": "ipython3",
   "version": "3.10.13"
  }
 },
 "nbformat": 4,
 "nbformat_minor": 2
}
